{
 "cells": [
  {
   "cell_type": "markdown",
   "id": "e51a0a09-ae78-49bf-8032-a91537eebed4",
   "metadata": {},
   "source": [
    "Upload a CSV to the same directory as this notebook that has at least a list of IDs with associated text that needs to be analysed. Then, in the cell below change the `input`, `id_column`, and `text_column` as appropriate and execute."
   ]
  },
  {
   "cell_type": "code",
   "execution_count": null,
   "id": "3e2ffe15-bc1c-415a-b0b6-c08c18c6bbe0",
   "metadata": {},
   "outputs": [],
   "source": [
    "input = \"nectar-use-cases.csv\"\n",
    "id_column = 'project_name'\n",
    "text_column = 'use_case'\n",
    "\n",
    "# Don't edit below this line\n",
    "\n",
    "import csv\n",
    "import requests\n",
    "import urllib\n",
    "import json\n",
    "import os\n",
    "\n",
    "output = \"mentions-\" + input \n",
    "api_endpoint = 'http://software-mentions:8060/service/processSoftwareText'"
   ]
  },
  {
   "cell_type": "markdown",
   "id": "22e9c7b0-9e22-4356-802c-daa4843fdfe6",
   "metadata": {},
   "source": [
    "Execute the below cell to start the analysis. It will take a while, especially if you don't have GPU acceleration!\n",
    "\n",
    "The first analysis in particular will take a while, subsequent analyses should be faster as software-mentions has loaded stuff it needs to load."
   ]
  },
  {
   "cell_type": "code",
   "execution_count": null,
   "id": "e31cf646-aec7-45c7-adca-ff3420dfa1fb",
   "metadata": {},
   "outputs": [],
   "source": [
    "with open(input) as inputfile:\n",
    "    inputreader = csv.DictReader(inputfile)\n",
    "    with open(output, 'w') as outputfile:\n",
    "        logwriter = csv.writer(outputfile)\n",
    "        logwriter.writerow([id_column, 'num_mentions', 'mentions_json'])\n",
    "        for row in inputreader:\n",
    "            use_case = row[text_column]\n",
    "            print('Processing ' + row[id_column], end = '...')\n",
    "            text = row[text_column]\n",
    "            data = { 'disambiguate': '1', 'text': text }\n",
    "            response = requests.request('POST', api_endpoint, data = data)\n",
    "            if ( response.status_code == 200 ):\n",
    "                mentions_json = json.loads(response.text)\n",
    "                num_mentions = len(mentions_json['mentions'])\n",
    "                print('Success! ' + str(num_mentions) + ' mentions.')\n",
    "                logwriter.writerow([row[id_column], num_mentions, json.dumps(mentions_json, indent=4)])\n",
    "            else:\n",
    "                print(\"Error! \" + response.status_text)\n",
    "        "
   ]
  }
 ],
 "metadata": {
  "kernelspec": {
   "display_name": "Python 3 (ipykernel)",
   "language": "python",
   "name": "python3"
  },
  "language_info": {
   "codemirror_mode": {
    "name": "ipython",
    "version": 3
   },
   "file_extension": ".py",
   "mimetype": "text/x-python",
   "name": "python",
   "nbconvert_exporter": "python",
   "pygments_lexer": "ipython3",
   "version": "3.10.5"
  }
 },
 "nbformat": 4,
 "nbformat_minor": 5
}
